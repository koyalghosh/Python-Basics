{
 "cells": [
  {
   "cell_type": "code",
   "execution_count": 13,
   "id": "4221cd4e",
   "metadata": {},
   "outputs": [
    {
     "name": "stdout",
     "output_type": "stream",
     "text": [
      "Hello python\n",
      "Hello python\n",
      "Hello python\n",
      "Hello python\n",
      "Hello python\n",
      "Hello python\n"
     ]
    }
   ],
   "source": [
    "for i in range(6):\n",
    "    print(\"Hello python\")"
   ]
  },
  {
   "cell_type": "code",
   "execution_count": null,
   "id": "f30aa382",
   "metadata": {},
   "outputs": [],
   "source": [
    "#List is an type of array more specificially it is a type of vector or data structure\n",
    "#List can also be called as the type of the order sequence of the elements or ordered set of elements\n",
    "#order starts from zero and ends at 9.. (in other programming language like R list is start from 1)\n",
    "#List is the stornge element for data types or used to store mixed data type and every thing is numerated"
   ]
  },
  {
   "cell_type": "code",
   "execution_count": 3,
   "id": "b33dd287",
   "metadata": {},
   "outputs": [],
   "source": [
    "myfirstlist = [3,4,5,6,7]"
   ]
  },
  {
   "cell_type": "code",
   "execution_count": 4,
   "id": "137da930",
   "metadata": {},
   "outputs": [
    {
     "data": {
      "text/plain": [
       "[3, 4, 5, 6, 7]"
      ]
     },
     "execution_count": 4,
     "metadata": {},
     "output_type": "execute_result"
    }
   ],
   "source": [
    "myfirstlist"
   ]
  },
  {
   "cell_type": "code",
   "execution_count": 5,
   "id": "3e83a5e6",
   "metadata": {},
   "outputs": [],
   "source": [
    "l2 = [\"hello\",\"hi\",2,4,5,True]"
   ]
  },
  {
   "cell_type": "code",
   "execution_count": 6,
   "id": "29cb1d3b",
   "metadata": {},
   "outputs": [
    {
     "data": {
      "text/plain": [
       "['hello', 'hi', 2, 4, 5, True]"
      ]
     },
     "execution_count": 6,
     "metadata": {},
     "output_type": "execute_result"
    }
   ],
   "source": [
    "l2"
   ]
  },
  {
   "cell_type": "code",
   "execution_count": 21,
   "id": "48685b43",
   "metadata": {},
   "outputs": [
    {
     "name": "stdout",
     "output_type": "stream",
     "text": [
      "['jhanvi', 'scored', 101]\n",
      "['koyal', 'is', 'good']\n"
     ]
    }
   ],
   "source": [
    "mydata = [\"koyal\",\"is\",\"good\"]\n",
    "data2 = [\"jhanvi\",\"scored\",101]\n",
    "print(data2)\n",
    "print(mydata)"
   ]
  },
  {
   "cell_type": "code",
   "execution_count": 8,
   "id": "ddb39326",
   "metadata": {},
   "outputs": [
    {
     "data": {
      "text/plain": [
       "list"
      ]
     },
     "execution_count": 8,
     "metadata": {},
     "output_type": "execute_result"
    }
   ],
   "source": [
    "type(mydata)"
   ]
  },
  {
   "cell_type": "code",
   "execution_count": 11,
   "id": "57dbef34",
   "metadata": {},
   "outputs": [
    {
     "data": {
      "text/plain": [
       "['koyal', 'is', 'good']"
      ]
     },
     "execution_count": 11,
     "metadata": {},
     "output_type": "execute_result"
    }
   ],
   "source": [
    "mydata"
   ]
  },
  {
   "cell_type": "code",
   "execution_count": 15,
   "id": "e4ce5e04",
   "metadata": {},
   "outputs": [
    {
     "name": "stdout",
     "output_type": "stream",
     "text": [
      "koyal\n",
      "is\n",
      "good\n"
     ]
    }
   ],
   "source": [
    "x  = len(mydata)\n",
    "for i in range(x):\n",
    "    print(mydata[i])"
   ]
  },
  {
   "cell_type": "code",
   "execution_count": 16,
   "id": "ec2eb35f",
   "metadata": {},
   "outputs": [
    {
     "data": {
      "text/plain": [
       "'is'"
      ]
     },
     "execution_count": 16,
     "metadata": {},
     "output_type": "execute_result"
    }
   ],
   "source": [
    "mydata[-2]"
   ]
  },
  {
   "cell_type": "code",
   "execution_count": 18,
   "id": "8be5976d",
   "metadata": {},
   "outputs": [
    {
     "data": {
      "text/plain": [
       "[100, 101, 102, 103, 104]"
      ]
     },
     "execution_count": 18,
     "metadata": {},
     "output_type": "execute_result"
    }
   ],
   "source": [
    "y = list(range(100,105))\n",
    "y"
   ]
  },
  {
   "cell_type": "code",
   "execution_count": 22,
   "id": "772df980",
   "metadata": {},
   "outputs": [
    {
     "data": {
      "text/plain": [
       "'good'"
      ]
     },
     "execution_count": 22,
     "metadata": {},
     "output_type": "execute_result"
    }
   ],
   "source": [
    "mydata[2]"
   ]
  },
  {
   "cell_type": "code",
   "execution_count": 24,
   "id": "2ac727a8",
   "metadata": {},
   "outputs": [
    {
     "data": {
      "text/plain": [
       "'koyal'"
      ]
     },
     "execution_count": 24,
     "metadata": {},
     "output_type": "execute_result"
    }
   ],
   "source": [
    "mydata[-3]"
   ]
  },
  {
   "cell_type": "code",
   "execution_count": 25,
   "id": "80863bc1",
   "metadata": {},
   "outputs": [],
   "source": [
    "mydata.insert(4,\"hello\")"
   ]
  },
  {
   "cell_type": "code",
   "execution_count": 26,
   "id": "b985d005",
   "metadata": {},
   "outputs": [
    {
     "data": {
      "text/plain": [
       "['koyal', 'is', 'good', 'hello']"
      ]
     },
     "execution_count": 26,
     "metadata": {},
     "output_type": "execute_result"
    }
   ],
   "source": [
    "mydata"
   ]
  },
  {
   "cell_type": "code",
   "execution_count": 28,
   "id": "0325469c",
   "metadata": {},
   "outputs": [
    {
     "data": {
      "text/plain": [
       "['koyal', 'is', 'good', 'hello', 'world', 'world']"
      ]
     },
     "execution_count": 28,
     "metadata": {},
     "output_type": "execute_result"
    }
   ],
   "source": [
    "mydata.insert(6,\"world\")\n",
    "mydata"
   ]
  },
  {
   "cell_type": "code",
   "execution_count": 29,
   "id": "4884f195",
   "metadata": {},
   "outputs": [
    {
     "data": {
      "text/plain": [
       "['is', 'good', 'hello', 'world']"
      ]
     },
     "execution_count": 29,
     "metadata": {},
     "output_type": "execute_result"
    }
   ],
   "source": [
    "mydata[1:5]"
   ]
  },
  {
   "cell_type": "code",
   "execution_count": 30,
   "id": "7f8083a8",
   "metadata": {},
   "outputs": [
    {
     "data": {
      "text/plain": [
       "['good', 'hello', 'world', 'world']"
      ]
     },
     "execution_count": 30,
     "metadata": {},
     "output_type": "execute_result"
    }
   ],
   "source": [
    "mydata[2:6]"
   ]
  },
  {
   "cell_type": "code",
   "execution_count": 32,
   "id": "8f441c0f",
   "metadata": {},
   "outputs": [
    {
     "data": {
      "text/plain": [
       "['hello', 'world']"
      ]
     },
     "execution_count": 32,
     "metadata": {},
     "output_type": "execute_result"
    }
   ],
   "source": [
    "mydata[3:-1]"
   ]
  },
  {
   "cell_type": "code",
   "execution_count": null,
   "id": "6aa3cf0c",
   "metadata": {},
   "outputs": [],
   "source": []
  }
 ],
 "metadata": {
  "kernelspec": {
   "display_name": "Python 3 (ipykernel)",
   "language": "python",
   "name": "python3"
  },
  "language_info": {
   "codemirror_mode": {
    "name": "ipython",
    "version": 3
   },
   "file_extension": ".py",
   "mimetype": "text/x-python",
   "name": "python",
   "nbconvert_exporter": "python",
   "pygments_lexer": "ipython3",
   "version": "3.11.1"
  }
 },
 "nbformat": 4,
 "nbformat_minor": 5
}
