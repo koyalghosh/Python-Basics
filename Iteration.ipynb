{
 "cells": [
  {
   "cell_type": "code",
   "execution_count": 13,
   "id": "edb3562b",
   "metadata": {},
   "outputs": [
    {
     "name": "stdout",
     "output_type": "stream",
     "text": [
      "Hello python\n",
      "Hello python\n",
      "Hello python\n",
      "Hello python\n",
      "Hello python\n",
      "Hello python\n"
     ]
    }
   ],
   "source": [
    "for i in range(6):\n",
    "    print(\"Hello python\")"
   ]
  },
  {
   "cell_type": "code",
   "execution_count": null,
   "id": "d2cca76f",
   "metadata": {},
   "outputs": [],
   "source": [
    "#List is an type of array more specificially it is a type of vector or data structure\n",
    "#List can also be called as the type of the order sequence of the elements or ordered set of elements\n",
    "#order starts from zero and ends at 9.. (in other programming language like R list is start from 1)\n",
    "#List is the stornge element for data types or used to store mixed data type and every thing is numerated"
   ]
  },
  {
   "cell_type": "code",
   "execution_count": 3,
   "id": "cd9f17b6",
   "metadata": {},
   "outputs": [],
   "source": [
    "myfirstlist = [3,4,5,6,7]"
   ]
  },
  {
   "cell_type": "code",
   "execution_count": 4,
   "id": "057e931d",
   "metadata": {},
   "outputs": [
    {
     "data": {
      "text/plain": [
       "[3, 4, 5, 6, 7]"
      ]
     },
     "execution_count": 4,
     "metadata": {},
     "output_type": "execute_result"
    }
   ],
   "source": [
    "myfirstlist"
   ]
  },
  {
   "cell_type": "code",
   "execution_count": 5,
   "id": "f59844d9",
   "metadata": {},
   "outputs": [],
   "source": [
    "l2 = [\"hello\",\"hi\",2,4,5,True]"
   ]
  },
  {
   "cell_type": "code",
   "execution_count": 6,
   "id": "08d50a87",
   "metadata": {},
   "outputs": [
    {
     "data": {
      "text/plain": [
       "['hello', 'hi', 2, 4, 5, True]"
      ]
     },
     "execution_count": 6,
     "metadata": {},
     "output_type": "execute_result"
    }
   ],
   "source": [
    "l2"
   ]
  },
  {
   "cell_type": "code",
   "execution_count": 21,
   "id": "0e80ab39",
   "metadata": {},
   "outputs": [
    {
     "name": "stdout",
     "output_type": "stream",
     "text": [
      "['jhanvi', 'scored', 101]\n",
      "['koyal', 'is', 'good']\n"
     ]
    }
   ],
   "source": [
    "mydata = [\"koyal\",\"is\",\"good\"]\n",
    "data2 = [\"jhanvi\",\"scored\",101]\n",
    "print(data2)\n",
    "print(mydata)"
   ]
  },
  {
   "cell_type": "code",
   "execution_count": 8,
   "id": "080c936d",
   "metadata": {},
   "outputs": [
    {
     "data": {
      "text/plain": [
       "list"
      ]
     },
     "execution_count": 8,
     "metadata": {},
     "output_type": "execute_result"
    }
   ],
   "source": [
    "type(mydata)"
   ]
  },
  {
   "cell_type": "code",
   "execution_count": 11,
   "id": "2695a619",
   "metadata": {},
   "outputs": [
    {
     "data": {
      "text/plain": [
       "['koyal', 'is', 'good']"
      ]
     },
     "execution_count": 11,
     "metadata": {},
     "output_type": "execute_result"
    }
   ],
   "source": [
    "mydata"
   ]
  },
  {
   "cell_type": "code",
   "execution_count": 15,
   "id": "f12eeff8",
   "metadata": {},
   "outputs": [
    {
     "name": "stdout",
     "output_type": "stream",
     "text": [
      "koyal\n",
      "is\n",
      "good\n"
     ]
    }
   ],
   "source": [
    "x  = len(mydata)\n",
    "for i in range(x):\n",
    "    print(mydata[i])"
   ]
  },
  {
   "cell_type": "code",
   "execution_count": 16,
   "id": "6a1c6716",
   "metadata": {},
   "outputs": [
    {
     "data": {
      "text/plain": [
       "'is'"
      ]
     },
     "execution_count": 16,
     "metadata": {},
     "output_type": "execute_result"
    }
   ],
   "source": [
    "mydata[-2]"
   ]
  },
  {
   "cell_type": "code",
   "execution_count": 18,
   "id": "afafbc6f",
   "metadata": {},
   "outputs": [
    {
     "data": {
      "text/plain": [
       "[100, 101, 102, 103, 104]"
      ]
     },
     "execution_count": 18,
     "metadata": {},
     "output_type": "execute_result"
    }
   ],
   "source": [
    "y = list(range(100,105))\n",
    "y"
   ]
  },
  {
   "cell_type": "code",
   "execution_count": 22,
   "id": "50d04802",
   "metadata": {},
   "outputs": [
    {
     "data": {
      "text/plain": [
       "'good'"
      ]
     },
     "execution_count": 22,
     "metadata": {},
     "output_type": "execute_result"
    }
   ],
   "source": [
    "mydata[2]"
   ]
  },
  {
   "cell_type": "code",
   "execution_count": 24,
   "id": "d2415ab1",
   "metadata": {},
   "outputs": [
    {
     "data": {
      "text/plain": [
       "'koyal'"
      ]
     },
     "execution_count": 24,
     "metadata": {},
     "output_type": "execute_result"
    }
   ],
   "source": [
    "mydata[-3]"
   ]
  },
  {
   "cell_type": "code",
   "execution_count": 25,
   "id": "22e86808",
   "metadata": {},
   "outputs": [],
   "source": [
    "mydata.insert(4,\"hello\")"
   ]
  },
  {
   "cell_type": "code",
   "execution_count": 26,
   "id": "f2591aa5",
   "metadata": {},
   "outputs": [
    {
     "data": {
      "text/plain": [
       "['koyal', 'is', 'good', 'hello']"
      ]
     },
     "execution_count": 26,
     "metadata": {},
     "output_type": "execute_result"
    }
   ],
   "source": [
    "mydata"
   ]
  },
  {
   "cell_type": "code",
   "execution_count": 28,
   "id": "31e611bb",
   "metadata": {},
   "outputs": [
    {
     "data": {
      "text/plain": [
       "['koyal', 'is', 'good', 'hello', 'world', 'world']"
      ]
     },
     "execution_count": 28,
     "metadata": {},
     "output_type": "execute_result"
    }
   ],
   "source": [
    "mydata.insert(6,\"world\")\n",
    "mydata"
   ]
  },
  {
   "cell_type": "code",
   "execution_count": 29,
   "id": "df794da4",
   "metadata": {},
   "outputs": [
    {
     "data": {
      "text/plain": [
       "['is', 'good', 'hello', 'world']"
      ]
     },
     "execution_count": 29,
     "metadata": {},
     "output_type": "execute_result"
    }
   ],
   "source": [
    "mydata[1:5]"
   ]
  },
  {
   "cell_type": "code",
   "execution_count": 30,
   "id": "a01d3008",
   "metadata": {},
   "outputs": [
    {
     "data": {
      "text/plain": [
       "['good', 'hello', 'world', 'world']"
      ]
     },
     "execution_count": 30,
     "metadata": {},
     "output_type": "execute_result"
    }
   ],
   "source": [
    "mydata[2:6]"
   ]
  },
  {
   "cell_type": "code",
   "execution_count": 32,
   "id": "08edad14",
   "metadata": {},
   "outputs": [
    {
     "data": {
      "text/plain": [
       "['hello', 'world']"
      ]
     },
     "execution_count": 32,
     "metadata": {},
     "output_type": "execute_result"
    }
   ],
   "source": [
    "mydata[3:-1]"
   ]
  },
  {
   "cell_type": "code",
   "execution_count": 33,
   "id": "e0445196",
   "metadata": {},
   "outputs": [
    {
     "data": {
      "text/plain": [
       "['is', 'hello', 'world']"
      ]
     },
     "execution_count": 33,
     "metadata": {},
     "output_type": "execute_result"
    }
   ],
   "source": [
    "mydata[1:6:2]"
   ]
  },
  {
   "cell_type": "code",
   "execution_count": null,
   "id": "6e0e4fbf",
   "metadata": {},
   "outputs": [],
   "source": []
  }
 ],
 "metadata": {
  "kernelspec": {
   "display_name": "Python 3 (ipykernel)",
   "language": "python",
   "name": "python3"
  },
  "language_info": {
   "codemirror_mode": {
    "name": "ipython",
    "version": 3
   },
   "file_extension": ".py",
   "mimetype": "text/x-python",
   "name": "python",
   "nbconvert_exporter": "python",
   "pygments_lexer": "ipython3",
   "version": "3.11.1"
  }
 },
 "nbformat": 4,
 "nbformat_minor": 5
}
