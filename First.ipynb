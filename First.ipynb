{
  "nbformat": 4,
  "nbformat_minor": 0,
  "metadata": {
    "colab": {
      "provenance": []
    },
    "kernelspec": {
      "name": "python3",
      "display_name": "Python 3"
    },
    "language_info": {
      "name": "python"
    }
  },
  "cells": [
    {
      "cell_type": "code",
      "execution_count": null,
      "metadata": {
        "colab": {
          "base_uri": "https://localhost:8080/"
        },
        "id": "79Rksx2DFaBl",
        "outputId": "aa8baa56-5e5e-47a9-9773-22e1b167f469"
      },
      "outputs": [
        {
          "output_type": "execute_result",
          "data": {
            "text/plain": [
              "str"
            ]
          },
          "metadata": {},
          "execution_count": 4
        }
      ],
      "source": [
        "x=\"koyal\"\n",
        "type(x)"
      ]
    },
    {
      "cell_type": "code",
      "source": [
        "x=2\n",
        "type(x)"
      ],
      "metadata": {
        "colab": {
          "base_uri": "https://localhost:8080/"
        },
        "id": "Ty0bllHEF03q",
        "outputId": "7b0276f9-3df6-4f19-8f4c-85c93fc36bbd"
      },
      "execution_count": null,
      "outputs": [
        {
          "output_type": "execute_result",
          "data": {
            "text/plain": [
              "int"
            ]
          },
          "metadata": {},
          "execution_count": 5
        }
      ]
    },
    {
      "cell_type": "code",
      "source": [
        "x=5.78\n",
        "type(x)"
      ],
      "metadata": {
        "colab": {
          "base_uri": "https://localhost:8080/"
        },
        "id": "xcRzYeEIF05Y",
        "outputId": "723f566a-49ae-44e2-99ac-39ea4016ede7"
      },
      "execution_count": null,
      "outputs": [
        {
          "output_type": "execute_result",
          "data": {
            "text/plain": [
              "str"
            ]
          },
          "metadata": {},
          "execution_count": 11
        }
      ]
    },
    {
      "cell_type": "code",
      "source": [
        "x=int(input(\"Enter the value of x : \"))\n",
        "if x>0 :\n",
        "  print(\"positive\")\n",
        "else:\n",
        "  print(\"negative\")"
      ],
      "metadata": {
        "colab": {
          "base_uri": "https://localhost:8080/"
        },
        "id": "gce6I57RF7go",
        "outputId": "f4536488-78b7-4bbf-eeef-aaddada93e4b"
      },
      "execution_count": null,
      "outputs": [
        {
          "output_type": "stream",
          "name": "stdout",
          "text": [
            "Enter the value of x : 5\n",
            "positive\n"
          ]
        }
      ]
    },
    {
      "cell_type": "code",
      "source": [
        "x=int(input(\"Enter the value of x : \"))\n",
        "y=int(input(\"Enter the value of x : \"))\n",
        "if x>y:\n",
        "  print(\"x is big\")\n",
        "elif x<y:\n",
        "  print(\"y is big\")\n",
        "else:\n",
        "  print(\"x and y are equal\")"
      ],
      "metadata": {
        "colab": {
          "base_uri": "https://localhost:8080/"
        },
        "id": "c8LOthkGJKd_",
        "outputId": "4608bb56-c4a8-49ea-bd50-df0ed20517bd"
      },
      "execution_count": null,
      "outputs": [
        {
          "output_type": "stream",
          "name": "stdout",
          "text": [
            "Enter the value of x : 5\n",
            "Enter the value of x : 1\n",
            "x is big\n"
          ]
        }
      ]
    },
    {
      "cell_type": "code",
      "source": [
        "x=int(input(\"Enter the value of x : \"))\n",
        "y=int(input(\"Enter the value of y : \"))\n",
        "z=int(input(\"Enter the value of z : \"))\n",
        "if x>y & x>z:\n",
        "  print(\"x is big\")\n",
        "elif y>x & y>z:\n",
        "  print(\"y is big\")\n",
        "else:\n",
        "  print(\"z is big\")"
      ],
      "metadata": {
        "colab": {
          "base_uri": "https://localhost:8080/"
        },
        "id": "1q3QixzjNETt",
        "outputId": "a80ed499-6005-4f75-aaf0-df302b8abb08"
      },
      "execution_count": null,
      "outputs": [
        {
          "output_type": "stream",
          "name": "stdout",
          "text": [
            "Enter the value of x : 4\n",
            "Enter the value of y : 7\n",
            "Enter the value of z : 9\n",
            "z is big\n"
          ]
        }
      ]
    },
    {
      "cell_type": "code",
      "source": [
        "roll = int(input(\"Enter your roll:- \"))\n",
        "attend =int(input(\"Enter attendence:- \"))\n",
        "if attend>=75:\n",
        "  print(\"allowed\")\n",
        "elif attend<75:\n",
        "  print(\"not allowed\")"
      ],
      "metadata": {
        "colab": {
          "base_uri": "https://localhost:8080/"
        },
        "id": "xBboU-xZQOcs",
        "outputId": "767b5a2c-d641-4fa1-e1a2-e46f3f92aac3"
      },
      "execution_count": null,
      "outputs": [
        {
          "output_type": "stream",
          "name": "stdout",
          "text": [
            "Enter your roll:- 555\n",
            "Enter attendence:- 0\n",
            "not allowed\n"
          ]
        }
      ]
    }
  ]
}